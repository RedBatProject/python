{
  "nbformat": 4,
  "nbformat_minor": 0,
  "metadata": {
    "colab": {
      "name": "go_deep_into_python.ipynb",
      "provenance": [],
      "collapsed_sections": [],
      "mount_file_id": "1GEqsV9eXGa7qihjfNK2IVauhJ3bBjFPS",
      "authorship_tag": "ABX9TyOb2khXPb76HrUhxgCSsur6",
      "include_colab_link": true
    },
    "kernelspec": {
      "name": "python3",
      "display_name": "Python 3"
    },
    "language_info": {
      "name": "python"
    }
  },
  "cells": [
    {
      "cell_type": "markdown",
      "metadata": {
        "id": "view-in-github",
        "colab_type": "text"
      },
      "source": [
        "<a href=\"https://colab.research.google.com/github/willyvonka1997/python/blob/main/go_deep_into_python.ipynb\" target=\"_parent\"><img src=\"https://colab.research.google.com/assets/colab-badge.svg\" alt=\"Open In Colab\"/></a>"
      ]
    },
    {
      "cell_type": "markdown",
      "metadata": {
        "id": "7cfdyQWxloko"
      },
      "source": [
        "create file.txt and open it\n",
        " "
      ]
    },
    {
      "cell_type": "code",
      "metadata": {
        "colab": {
          "base_uri": "https://localhost:8080/"
        },
        "id": "NMq1n2fMkL45",
        "outputId": "fbb074ad-a2f2-4212-d1bb-0a7932491897"
      },
      "source": [
        "f = open(\"text.txt\",\"w+\")\n",
        "sipmle_text = \"hello dear, wlcome,\\nhear you are\"\n",
        "f.write(sipmle_text)\n",
        "%cat text.txt"
      ],
      "execution_count": 103,
      "outputs": [
        {
          "output_type": "stream",
          "text": [
            "hello dear, wlcome,\n",
            "hear you are"
          ],
          "name": "stdout"
        }
      ]
    },
    {
      "cell_type": "code",
      "metadata": {
        "colab": {
          "base_uri": "https://localhost:8080/"
        },
        "id": "O5dtZt9vlxJ3",
        "outputId": "2bf33529-6a26-431e-a9ff-9d6679bd2838"
      },
      "source": [
        "filename = open(\"text.txt\",\"r\")\n",
        "content = filename.readline()\n",
        "print(content)"
      ],
      "execution_count": 106,
      "outputs": [
        {
          "output_type": "stream",
          "text": [
            "hello dear, wlcome,\n",
            "\n"
          ],
          "name": "stdout"
        }
      ]
    },
    {
      "cell_type": "code",
      "metadata": {
        "colab": {
          "base_uri": "https://localhost:8080/"
        },
        "id": "IEypDKpUmpnN",
        "outputId": "fc095e5a-c5fe-45e5-8e56-85860ee4407a"
      },
      "source": [
        "with open(\"text.txt\",\"r\") as f:\n",
        "  for line in f:\n",
        "    print(line.split(\" \")[0])"
      ],
      "execution_count": 110,
      "outputs": [
        {
          "output_type": "stream",
          "text": [
            "hello\n",
            "hear\n"
          ],
          "name": "stdout"
        }
      ]
    },
    {
      "cell_type": "code",
      "metadata": {
        "colab": {
          "base_uri": "https://localhost:8080/"
        },
        "id": "cCtrEg6RnzBe",
        "outputId": "3689dc8e-b995-474d-b546-ec92533d8ccb"
      },
      "source": [
        "with open(\"text.txt\",\"r\") as f:\n",
        "  for i,line in enumerate(f):\n",
        "    print(f\"line {i} with text: {line}\")"
      ],
      "execution_count": 111,
      "outputs": [
        {
          "output_type": "stream",
          "text": [
            "line 0 with text: hello dear, wlcome,\n",
            "\n",
            "line 1 with text: hear you are\n"
          ],
          "name": "stdout"
        }
      ]
    },
    {
      "cell_type": "code",
      "metadata": {
        "colab": {
          "base_uri": "https://localhost:8080/"
        },
        "id": "hXIgxk0PoEtw",
        "outputId": "08183528-ba1e-40ae-ab58-2709ad4df0b4"
      },
      "source": [
        "%cat Book2.csv"
      ],
      "execution_count": 115,
      "outputs": [
        {
          "output_type": "stream",
          "text": [
            "name\u001bage\u001bid\r\n",
            "willy\u001b13\u001b99\r\n",
            "jimmy\u001b23\u001b98\r\n",
            "will\u001b14\u001b97\r\n"
          ],
          "name": "stdout"
        }
      ]
    },
    {
      "cell_type": "code",
      "metadata": {
        "id": "XIrh8qihqCkL"
      },
      "source": [
        "import csv"
      ],
      "execution_count": 116,
      "outputs": []
    },
    {
      "cell_type": "code",
      "metadata": {
        "id": "MkFeP5w4qOXh"
      },
      "source": [
        "file = \"Book2.csv\""
      ],
      "execution_count": null,
      "outputs": []
    },
    {
      "cell_type": "code",
      "metadata": {
        "id": "a-t2IYEJqk0x"
      },
      "source": [
        "f = open(file,\"r\")"
      ],
      "execution_count": 120,
      "outputs": []
    },
    {
      "cell_type": "code",
      "metadata": {
        "colab": {
          "base_uri": "https://localhost:8080/"
        },
        "id": "rfuHjggtqll3",
        "outputId": "efbe016f-afa3-4bd2-a888-77a68cf6a1a3"
      },
      "source": [
        "with open(file,'r') as f:\n",
        "  freader = csv.reader(f,delimiter=',')\n",
        "  h = next(freader)\n",
        "  print(freader)\n",
        "  for line in freader:\n",
        "    print(line)"
      ],
      "execution_count": 127,
      "outputs": [
        {
          "output_type": "stream",
          "text": [
            "<_csv.reader object at 0x7eff87773c50>\n",
            "['willy\\x1b13\\x1b99']\n",
            "['jimmy\\x1b23\\x1b98']\n",
            "['will\\x1b14\\x1b97']\n"
          ],
          "name": "stdout"
        }
      ]
    },
    {
      "cell_type": "code",
      "metadata": {
        "id": "ieDOcceBsKs4"
      },
      "source": [
        "import pandas as pd\n",
        "read_file = pd.read_excel(\"Book2.xlsx\")\n",
        "read_file"
      ],
      "execution_count": null,
      "outputs": []
    },
    {
      "cell_type": "code",
      "metadata": {
        "id": "UIJIj-M-tEwY"
      },
      "source": [
        "read_file.to_csv('./name2.csv', index = None, header=True)"
      ],
      "execution_count": 266,
      "outputs": []
    },
    {
      "cell_type": "code",
      "metadata": {
        "id": "rBDjrgPm7r3w"
      },
      "source": [
        "pheader = read_file.keys()"
      ],
      "execution_count": 276,
      "outputs": []
    },
    {
      "cell_type": "code",
      "metadata": {
        "id": "Pf34PVtjyulh"
      },
      "source": [
        " read_file_num = read_file.to_numpy()"
      ],
      "execution_count": 277,
      "outputs": []
    },
    {
      "cell_type": "code",
      "metadata": {
        "colab": {
          "base_uri": "https://localhost:8080/"
        },
        "id": "phCQtZDBy8H_",
        "outputId": "c633279b-8ca1-483c-db1d-9c3690954d82"
      },
      "source": [
        "read_file_num[2]"
      ],
      "execution_count": 282,
      "outputs": [
        {
          "output_type": "execute_result",
          "data": {
            "text/plain": [
              "array(['will', 14, 97], dtype=object)"
            ]
          },
          "metadata": {
            "tags": []
          },
          "execution_count": 282
        }
      ]
    },
    {
      "cell_type": "code",
      "metadata": {
        "colab": {
          "base_uri": "https://localhost:8080/"
        },
        "id": "S9GETCNH0Jai",
        "outputId": "c35b2e7d-1aad-4163-ace5-7784393e886b"
      },
      "source": [
        "read_file_num[1][1]"
      ],
      "execution_count": 279,
      "outputs": [
        {
          "output_type": "execute_result",
          "data": {
            "text/plain": [
              "23"
            ]
          },
          "metadata": {
            "tags": []
          },
          "execution_count": 279
        }
      ]
    },
    {
      "cell_type": "code",
      "metadata": {
        "id": "95NCLuXg01su"
      },
      "source": [
        "df = pd.DataFrame(read_file_num)\n",
        "headerList = ['id', 'name', 'profession']\n",
        "df.to_csv('myfile.csv',index = None, header = pheader)"
      ],
      "execution_count": 280,
      "outputs": []
    },
    {
      "cell_type": "code",
      "metadata": {
        "colab": {
          "base_uri": "https://localhost:8080/",
          "height": 143
        },
        "id": "Ex3hN0xP04W6",
        "outputId": "8ec89c07-1ff6-4f42-b3f8-fb9c602f6266"
      },
      "source": [
        "file2 = pd.read_csv('myfile.csv')\n",
        "file2"
      ],
      "execution_count": 281,
      "outputs": [
        {
          "output_type": "execute_result",
          "data": {
            "text/html": [
              "<div>\n",
              "<style scoped>\n",
              "    .dataframe tbody tr th:only-of-type {\n",
              "        vertical-align: middle;\n",
              "    }\n",
              "\n",
              "    .dataframe tbody tr th {\n",
              "        vertical-align: top;\n",
              "    }\n",
              "\n",
              "    .dataframe thead th {\n",
              "        text-align: right;\n",
              "    }\n",
              "</style>\n",
              "<table border=\"1\" class=\"dataframe\">\n",
              "  <thead>\n",
              "    <tr style=\"text-align: right;\">\n",
              "      <th></th>\n",
              "      <th>name</th>\n",
              "      <th>age</th>\n",
              "      <th>id</th>\n",
              "    </tr>\n",
              "  </thead>\n",
              "  <tbody>\n",
              "    <tr>\n",
              "      <th>0</th>\n",
              "      <td>willy</td>\n",
              "      <td>13</td>\n",
              "      <td>99</td>\n",
              "    </tr>\n",
              "    <tr>\n",
              "      <th>1</th>\n",
              "      <td>jimmy</td>\n",
              "      <td>23</td>\n",
              "      <td>98</td>\n",
              "    </tr>\n",
              "    <tr>\n",
              "      <th>2</th>\n",
              "      <td>will</td>\n",
              "      <td>14</td>\n",
              "      <td>97</td>\n",
              "    </tr>\n",
              "  </tbody>\n",
              "</table>\n",
              "</div>"
            ],
            "text/plain": [
              "    name  age  id\n",
              "0  willy   13  99\n",
              "1  jimmy   23  98\n",
              "2   will   14  97"
            ]
          },
          "metadata": {
            "tags": []
          },
          "execution_count": 281
        }
      ]
    },
    {
      "cell_type": "code",
      "metadata": {
        "id": "psTwnCHetOJX"
      },
      "source": [
        "read_file = pd.read_csv(\"name.csv\")"
      ],
      "execution_count": 175,
      "outputs": []
    },
    {
      "cell_type": "code",
      "metadata": {
        "colab": {
          "base_uri": "https://localhost:8080/",
          "height": 143
        },
        "id": "JIqMIF4ItUG6",
        "outputId": "c85cc9ba-e32c-4c73-c432-9a00c17b880d"
      },
      "source": [
        "read_file"
      ],
      "execution_count": 176,
      "outputs": [
        {
          "output_type": "execute_result",
          "data": {
            "text/html": [
              "<div>\n",
              "<style scoped>\n",
              "    .dataframe tbody tr th:only-of-type {\n",
              "        vertical-align: middle;\n",
              "    }\n",
              "\n",
              "    .dataframe tbody tr th {\n",
              "        vertical-align: top;\n",
              "    }\n",
              "\n",
              "    .dataframe thead th {\n",
              "        text-align: right;\n",
              "    }\n",
              "</style>\n",
              "<table border=\"1\" class=\"dataframe\">\n",
              "  <thead>\n",
              "    <tr style=\"text-align: right;\">\n",
              "      <th></th>\n",
              "      <th>name</th>\n",
              "      <th>age</th>\n",
              "      <th>id</th>\n",
              "    </tr>\n",
              "  </thead>\n",
              "  <tbody>\n",
              "    <tr>\n",
              "      <th>0</th>\n",
              "      <td>willy</td>\n",
              "      <td>13</td>\n",
              "      <td>99</td>\n",
              "    </tr>\n",
              "    <tr>\n",
              "      <th>1</th>\n",
              "      <td>jimmy</td>\n",
              "      <td>23</td>\n",
              "      <td>98</td>\n",
              "    </tr>\n",
              "    <tr>\n",
              "      <th>2</th>\n",
              "      <td>will</td>\n",
              "      <td>14</td>\n",
              "      <td>97</td>\n",
              "    </tr>\n",
              "  </tbody>\n",
              "</table>\n",
              "</div>"
            ],
            "text/plain": [
              "    name  age  id\n",
              "0  willy   13  99\n",
              "1  jimmy   23  98\n",
              "2   will   14  97"
            ]
          },
          "metadata": {
            "tags": []
          },
          "execution_count": 176
        }
      ]
    },
    {
      "cell_type": "code",
      "metadata": {
        "colab": {
          "base_uri": "https://localhost:8080/"
        },
        "id": "2EXx3sewxfUZ",
        "outputId": "2ec529aa-bd67-48fc-d29e-5e8bcd5b8cb7"
      },
      "source": [
        "read_file['id']"
      ],
      "execution_count": 177,
      "outputs": [
        {
          "output_type": "execute_result",
          "data": {
            "text/plain": [
              "0    99\n",
              "1    98\n",
              "2    97\n",
              "Name: id, dtype: int64"
            ]
          },
          "metadata": {
            "tags": []
          },
          "execution_count": 177
        }
      ]
    },
    {
      "cell_type": "code",
      "metadata": {
        "colab": {
          "base_uri": "https://localhost:8080/"
        },
        "id": "g873q3UOtg7B",
        "outputId": "f1e13842-dcd6-410f-e698-82527f600815"
      },
      "source": [
        "file = 'name.csv'\n",
        "with open(file , 'r') as f:\n",
        "  data_reader = csv.reader(f,delimiter = ',')\n",
        "  for line in data_reader:\n",
        "    print(line)"
      ],
      "execution_count": 171,
      "outputs": [
        {
          "output_type": "stream",
          "text": [
            "['name', 'age', 'id']\n",
            "['willy', '13', '99']\n",
            "['jimmy', '23', '98']\n",
            "['will', '14', '97']\n",
            "['willy 23 54willy 23 54']\n"
          ],
          "name": "stdout"
        }
      ]
    },
    {
      "cell_type": "code",
      "metadata": {
        "id": "DWY59HQ9wJdr"
      },
      "source": [
        "puti = \"willy 23 54\""
      ],
      "execution_count": 169,
      "outputs": []
    },
    {
      "cell_type": "code",
      "metadata": {
        "id": "zbM-G4obv7lc"
      },
      "source": [
        "with open('name.csv','a') as fd:\n",
        "    fd.write(puti)"
      ],
      "execution_count": 170,
      "outputs": []
    },
    {
      "cell_type": "code",
      "metadata": {
        "id": "rZwmJ4EdwwE1"
      },
      "source": [
        "import csv   \n",
        "fields=['first','second','third']\n",
        "with open(r'name', 'a') as f:\n",
        "    writer = csv.writer(f)\n",
        "    writer.writerow(fields)"
      ],
      "execution_count": null,
      "outputs": []
    }
  ]
}