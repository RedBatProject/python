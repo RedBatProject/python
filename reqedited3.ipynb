{
  "nbformat": 4,
  "nbformat_minor": 0,
  "metadata": {
    "colab": {
      "name": "reqedited3.ipynb",
      "provenance": [],
      "collapsed_sections": [],
      "mount_file_id": "1gnEUCiLtes-_8U8Xd5VAYKkUNEx_3tFm",
      "authorship_tag": "ABX9TyOvXLerJ0E9EeJqHkIHtdiq",
      "include_colab_link": true
    },
    "kernelspec": {
      "name": "python3",
      "display_name": "Python 3"
    },
    "language_info": {
      "name": "python"
    }
  },
  "cells": [
    {
      "cell_type": "markdown",
      "metadata": {
        "id": "view-in-github",
        "colab_type": "text"
      },
      "source": [
        "<a href=\"https://colab.research.google.com/github/willyvonka1997/python/blob/main/reqedited3.ipynb\" target=\"_parent\"><img src=\"https://colab.research.google.com/assets/colab-badge.svg\" alt=\"Open In Colab\"/></a>"
      ]
    },
    {
      "cell_type": "code",
      "metadata": {
        "id": "kfhzanxilD8r"
      },
      "source": [
        "from bs4 import BeautifulSoup\n",
        "import requests\n",
        "from PIL import Image\n",
        "from io import BytesIO\n",
        "import os\n",
        "from zipfile import ZipFile\n",
        "from os.path import basename\n",
        "from google.colab import files"
      ],
      "execution_count": 4,
      "outputs": []
    },
    {
      "cell_type": "code",
      "metadata": {
        "id": "QvqfruP-UvPG"
      },
      "source": [
        "from google.colab import drive\n",
        "drive.mount('/content/drive')"
      ],
      "execution_count": null,
      "outputs": []
    },
    {
      "cell_type": "code",
      "metadata": {
        "id": "oozOM8l9UfaZ",
        "colab": {
          "base_uri": "https://localhost:8080/",
          "height": 35
        },
        "outputId": "f4d11ef2-820a-40e6-f965-f8c0b13569a7"
      },
      "source": [
        "topic = \"lynch\"\n",
        "urli = requests.get(f\"https://unsplash.com/s/photos/{topic}\")\n",
        "urli.url"
      ],
      "execution_count": 171,
      "outputs": [
        {
          "output_type": "execute_result",
          "data": {
            "application/vnd.google.colaboratory.intrinsic+json": {
              "type": "string"
            },
            "text/plain": [
              "'https://unsplash.com/s/photos/lynch'"
            ]
          },
          "metadata": {
            "tags": []
          },
          "execution_count": 171
        }
      ]
    },
    {
      "cell_type": "code",
      "metadata": {
        "id": "JKrk-jqcrmhs"
      },
      "source": [
        "soup = BeautifulSoup(urli.text , \"html.parser\")"
      ],
      "execution_count": 172,
      "outputs": []
    },
    {
      "cell_type": "code",
      "metadata": {
        "id": "Rw1EKWGZlQiX"
      },
      "source": [
        "links = soup.findAll(\"figure\",{\"itemprop\":\"image\"})\n"
      ],
      "execution_count": 173,
      "outputs": []
    },
    {
      "cell_type": "code",
      "metadata": {
        "id": "szww5njn0rkq"
      },
      "source": [
        ""
      ],
      "execution_count": null,
      "outputs": []
    },
    {
      "cell_type": "code",
      "metadata": {
        "colab": {
          "base_uri": "https://localhost:8080/"
        },
        "id": "AcgKSDytuarl",
        "outputId": "4395d4f6-8a62-4e41-9dec-0a6797a13819"
      },
      "source": [
        "for link in links:\n",
        "  linkdiv = link.find(\"a\",{\"class\":\"_2Mc8_\"})\n",
        "  print(linkdiv.attrs[\"href\"].split(\"/\")[2])\n",
        "  imageset = requests.get(f\"https://unsplash.com/photos/{link}\")\n",
        "  print(imageset)"
      ],
      "execution_count": 182,
      "outputs": [
        {
          "output_type": "stream",
          "text": [
            "C1uI6SUfhUY\n",
            "<Response [404]>\n",
            "jxsBYSVJRjg\n",
            "<Response [404]>\n",
            "KwMBAyJk8fs\n",
            "<Response [404]>\n",
            "ENzMojUPoxc\n",
            "<Response [404]>\n",
            "i73F7ma3Q9k\n",
            "<Response [404]>\n",
            "hWhJhdZGdmU\n",
            "<Response [404]>\n",
            "CD6pT9Uzx1Y\n",
            "<Response [404]>\n",
            "XKHPN9d4TaI\n",
            "<Response [404]>\n",
            "bUHEUG0GuH8\n",
            "<Response [404]>\n",
            "JpnUY1mrETs\n",
            "<Response [404]>\n",
            "H_WDH9hUzJM\n",
            "<Response [404]>\n",
            "C1uI6SUfhUY\n",
            "<Response [404]>\n",
            "bUHEUG0GuH8\n",
            "<Response [404]>\n",
            "hWhJhdZGdmU\n",
            "<Response [404]>\n",
            "CD6pT9Uzx1Y\n",
            "<Response [404]>\n",
            "jxsBYSVJRjg\n",
            "<Response [404]>\n",
            "ENzMojUPoxc\n",
            "<Response [404]>\n",
            "H_WDH9hUzJM\n",
            "<Response [404]>\n",
            "XKHPN9d4TaI\n",
            "<Response [404]>\n",
            "KwMBAyJk8fs\n",
            "<Response [404]>\n",
            "i73F7ma3Q9k\n",
            "<Response [404]>\n",
            "JpnUY1mrETs\n",
            "<Response [404]>\n",
            "C1uI6SUfhUY\n",
            "<Response [404]>\n",
            "CD6pT9Uzx1Y\n",
            "<Response [404]>\n",
            "XKHPN9d4TaI\n",
            "<Response [404]>\n",
            "jxsBYSVJRjg\n",
            "<Response [404]>\n",
            "bUHEUG0GuH8\n",
            "<Response [404]>\n",
            "KwMBAyJk8fs\n",
            "<Response [404]>\n",
            "ENzMojUPoxc\n",
            "<Response [404]>\n",
            "i73F7ma3Q9k\n",
            "<Response [404]>\n",
            "JpnUY1mrETs\n",
            "<Response [404]>\n",
            "H_WDH9hUzJM\n",
            "<Response [404]>\n",
            "hWhJhdZGdmU\n",
            "<Response [404]>\n"
          ],
          "name": "stdout"
        }
      ]
    },
    {
      "cell_type": "code",
      "metadata": {
        "id": "-zdj2z0sv-Xq"
      },
      "source": [
        "  print(link.attrs[\"alt\"].replace(\" \", \"_\"))"
      ],
      "execution_count": null,
      "outputs": []
    },
    {
      "cell_type": "code",
      "metadata": {
        "colab": {
          "base_uri": "https://localhost:8080/"
        },
        "id": "RbCtogoLrb2v",
        "outputId": "7a62393c-ee59-4284-9758-6049954c1d85"
      },
      "source": [
        "for link in links:\n",
        "  print(link.attrs[\"src\"])\n",
        "  filename =link.split(\"/\")[-1]\n",
        "  img = Image.open(BytesIO(r2.content))\n",
        "  img.save(path +\"/\" + filename , img.format)"
      ],
      "execution_count": 141,
      "outputs": [
        {
          "output_type": "stream",
          "text": [
            "https://images.unsplash.com/photo-1589717319952-e97c8bf7c52e?ixid=MnwxMjA3fDB8MHxzZWFyY2h8MXx8bnVkZXxlbnwwfHwwfHw%3D&ixlib=rb-1.2.1&w=1000&q=80\n",
            "https://images.unsplash.com/photo-1542994419-6ce2d65bea12?ixid=MnwxMjA3fDB8MHxzZWFyY2h8M3x8bnVkZXxlbnwwfHwwfHw%3D&ixlib=rb-1.2.1&w=1000&q=80\n",
            "https://images.unsplash.com/photo-1558901735-73f176cac3cd?ixid=MnwxMjA3fDB8MHxzZWFyY2h8Mnx8bnVkZXxlbnwwfHwwfHw%3D&ixlib=rb-1.2.1&w=1000&q=80\n",
            "https://images.unsplash.com/photo-1589717319952-e97c8bf7c52e?ixid=MnwxMjA3fDB8MHxzZWFyY2h8MXx8bnVkZXxlbnwwfHwwfHw%3D&ixlib=rb-1.2.1&w=1000&q=80\n",
            "https://images.unsplash.com/photo-1558901735-73f176cac3cd?ixid=MnwxMjA3fDB8MHxzZWFyY2h8Mnx8bnVkZXxlbnwwfHwwfHw%3D&ixlib=rb-1.2.1&w=1000&q=80\n",
            "https://images.unsplash.com/photo-1542994419-6ce2d65bea12?ixid=MnwxMjA3fDB8MHxzZWFyY2h8M3x8bnVkZXxlbnwwfHwwfHw%3D&ixlib=rb-1.2.1&w=1000&q=80\n",
            "https://images.unsplash.com/photo-1589717319952-e97c8bf7c52e?ixid=MnwxMjA3fDB8MHxzZWFyY2h8MXx8bnVkZXxlbnwwfHwwfHw%3D&ixlib=rb-1.2.1&w=1000&q=80\n",
            "https://images.unsplash.com/photo-1558901735-73f176cac3cd?ixid=MnwxMjA3fDB8MHxzZWFyY2h8Mnx8bnVkZXxlbnwwfHwwfHw%3D&ixlib=rb-1.2.1&w=1000&q=80\n",
            "https://images.unsplash.com/photo-1542994419-6ce2d65bea12?ixid=MnwxMjA3fDB8MHxzZWFyY2h8M3x8bnVkZXxlbnwwfHwwfHw%3D&ixlib=rb-1.2.1&w=1000&q=80\n"
          ],
          "name": "stdout"
        }
      ]
    },
    {
      "cell_type": "code",
      "metadata": {
        "id": "v-DEhv-wkCOs"
      },
      "source": [
        "print(\"Tips: emma+mae\")\n",
        "search = input(\"search for pstart  : \")\n",
        "# search = \"emma+mae\"\n",
        "params = {\"q\":search}\n",
        "r = requests.get(\"https://www.pornpics.com/\" , params=params)\n",
        "\n",
        "soup = BeautifulSoup(r.text , \"html.parser\")\n",
        "\n",
        "# links = soup.findAll(\"li\", {\"class\":\"thumbwook\"})\n",
        "links = soup.findAll(\"a\", {\"class\":\"rel-link\"})\n",
        "print(\"number of found images is: \" , len(links))\n",
        "string = \" \"\n",
        "print(r.url)"
      ],
      "execution_count": null,
      "outputs": []
    },
    {
      "cell_type": "code",
      "metadata": {
        "id": "CAz7mJGBsKVq"
      },
      "source": [
        "string1 = 1\n",
        "string2 = 0\n",
        "try:\n",
        "  try:\n",
        "    dir = str(search)\n",
        "    parent_dir = \"./\"\n",
        "    path = os.path.join(parent_dir, dir)\n",
        "    os.mkdir(path)\n",
        "    print(\"Directory '% s' created\" % dir)\n",
        "  except IOError:\n",
        "    print(\"folder exist ...\")\n",
        "    pass\n",
        "  for link in links:\n",
        "    print(f\"folder {string1} opened.\")\n",
        "    print(f\"start grabbing folder {string1}.\")\n",
        "    string1 +=1\n",
        "    r = requests.get(link.attrs[\"href\"])\n",
        "    soup = BeautifulSoup(r.text , \"html.parser\")\n",
        "    links2 = soup.findAll(\"a\", {\"class\":\"rel-link\"})\n",
        "    for link2 in links2:\n",
        "      string+=\"-\"\n",
        "      r2 = requests.get(link2.attrs[\"href\"],stream = True)\n",
        "      filename =r2.url.split(\"/\")[-1]\n",
        "      img = Image.open(BytesIO(r2.content))\n",
        "      img.save(path +\"/\" + filename , img.format)\n",
        "    print(f\"folder {string1} closeed.\")\n",
        "    print(\" \")\n",
        "except IOError:\n",
        "  print(IOError)\n",
        "  pass"
      ],
      "execution_count": null,
      "outputs": []
    },
    {
      "cell_type": "code",
      "metadata": {
        "id": "17i9e4KW3PLb"
      },
      "source": [
        "# create a ZipFile object\n",
        "with ZipFile(search +'.zip', 'w') as zipObj:\n",
        "   # Iterate over all the files in directory\n",
        "   for folderName, subfolders, filenames in os.walk('/content/'+search):\n",
        "       for filename in filenames:\n",
        "           #create complete filepath of file in directory\n",
        "           filePath = os.path.join(folderName, filename)\n",
        "           # Add file to zip\n",
        "           zipObj.write(filePath, basename(filePath))"
      ],
      "execution_count": null,
      "outputs": []
    }
  ]
}