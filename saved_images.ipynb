{
  "nbformat": 4,
  "nbformat_minor": 0,
  "metadata": {
    "colab": {
      "name": "saved_images.ipynb",
      "provenance": [],
      "collapsed_sections": [],
      "mount_file_id": "1gnEUCiLtes-_8U8Xd5VAYKkUNEx_3tFm",
      "authorship_tag": "ABX9TyNEESqo/T3ZCoqX1h8NaDbR",
      "include_colab_link": true
    },
    "kernelspec": {
      "name": "python3",
      "display_name": "Python 3"
    },
    "language_info": {
      "name": "python"
    }
  },
  "cells": [
    {
      "cell_type": "markdown",
      "metadata": {
        "id": "view-in-github",
        "colab_type": "text"
      },
      "source": [
        "<a href=\"https://colab.research.google.com/github/willyvonka1997/python/blob/main/saved_images.ipynb\" target=\"_parent\"><img src=\"https://colab.research.google.com/assets/colab-badge.svg\" alt=\"Open In Colab\"/></a>"
      ]
    },
    {
      "cell_type": "code",
      "metadata": {
        "id": "kfhzanxilD8r",
        "colab": {
          "base_uri": "https://localhost:8080/"
        },
        "outputId": "ce13ab5e-0e2d-4374-f58c-459d34eab5ec"
      },
      "source": [
        "from bs4 import BeautifulSoup\n",
        "import requests\n",
        "from PIL import Image\n",
        "from io import BytesIO\n",
        "import os\n",
        "from zipfile import ZipFile\n",
        "from os.path import basename\n",
        "from google.colab import files\n",
        "\n",
        "# input\n",
        "topic = input(\"insert your topic : \")\n",
        "urli = requests.get(f\"https://unsplash.com/s/photos/{topic}\")\n",
        "soup = BeautifulSoup(urli.text , \"html.parser\")\n",
        "links = soup.findAll(\"figure\",{\"itemprop\":\"image\"})\n",
        "if len(links)!=0:\n",
        "  print(\"####### someting found ... #######\")\n",
        "else:\n",
        "  print(\"####### sorry not found #######\")\n",
        "  print(\"####### use another topic #######\")\n",
        "  topic = input(\"insert your topic\")\n",
        "  urli = requests.get(f\"https://unsplash.com/s/photos/{topic}\")\n",
        "  soup = BeautifulSoup(urli.text , \"html.parser\")\n",
        "  links = soup.findAll(\"figure\",{\"itemprop\":\"image\"})\n",
        "\n",
        "# creat folder\n",
        "try:\n",
        "  dir = str(topic)\n",
        "  parent_dir = \"./\"\n",
        "  path = os.path.join(parent_dir, dir)\n",
        "  os.mkdir(path)\n",
        "  print(\"####### Directory '% s' created #######\" % dir)\n",
        "except IOError:\n",
        "  print(\"####### folder exist ... #######\")\n",
        "  pass\n",
        "\n",
        "# search\n",
        "print(\"####### SEARCHING STARTED #######\")\n",
        "for link in links:\n",
        "  linkdiv = link.find(\"a\",{\"class\":\"_2Mc8_\"})\n",
        "  plink = linkdiv.attrs[\"href\"].split(\"/\")[2]\n",
        "  imageset = requests.get(f\"https://unsplash.com/photos/{plink}\")\n",
        "  # print(plink)\n",
        "  soup = BeautifulSoup(imageset.text , \"html.parser\")\n",
        "  imageu = soup.find(\"img\", {\"class\":\"oCCRx\"})\n",
        "  imageu.attrs[\"src\"]\n",
        "  imagejpg = requests.get(imageu.attrs[\"src\"])\n",
        "  filename = plink\n",
        "  img = Image.open(BytesIO(imagejpg.content))\n",
        "  img.save(path +\"/\" + filename + \".jpg\")\n",
        "\n",
        "# create a ZipFile object\n",
        "with ZipFile(topic +'.zip', 'w') as zipObj:\n",
        "   # Iterate over all the files in directory\n",
        "   for folderName, subfolders, filenames in os.walk(path):\n",
        "       for filename in filenames:\n",
        "           #create complete filepath of file in directory\n",
        "           filePath = os.path.join(folderName, filename)\n",
        "           # Add file to zip\n",
        "           zipObj.write(filePath, basename(filePath))\n"
      ],
      "execution_count": null,
      "outputs": [
        {
          "output_type": "stream",
          "text": [
            "insert your topic : cat\n",
            "####### someting found ... #######\n",
            "####### Directory 'cat' created #######\n",
            "####### SEARCHING STARTED #######\n"
          ],
          "name": "stdout"
        }
      ]
    }
  ]
}